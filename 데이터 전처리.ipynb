{
 "cells": [
  {
   "cell_type": "code",
   "execution_count": 1,
   "metadata": {},
   "outputs": [],
   "source": [
    "import pandas as pd\n",
    "df = pd.read_csv('data/WA_Fn-UseC_-Telco-Customer-Churn.csv')"
   ]
  },
  {
   "cell_type": "markdown",
   "metadata": {},
   "source": [
    "# 1. 결측치 처리"
   ]
  },
  {
   "cell_type": "markdown",
   "metadata": {},
   "source": [
    "### 결측치 유무 확인"
   ]
  },
  {
   "cell_type": "code",
   "execution_count": 2,
   "metadata": {},
   "outputs": [
    {
     "name": "stdout",
     "output_type": "stream",
     "text": [
      "customerID: 0 개의 공백 또는 NaN\n",
      "gender: 0 개의 공백 또는 NaN\n",
      "Partner: 0 개의 공백 또는 NaN\n",
      "Dependents: 0 개의 공백 또는 NaN\n",
      "PhoneService: 0 개의 공백 또는 NaN\n",
      "MultipleLines: 0 개의 공백 또는 NaN\n",
      "InternetService: 0 개의 공백 또는 NaN\n",
      "OnlineSecurity: 0 개의 공백 또는 NaN\n",
      "OnlineBackup: 0 개의 공백 또는 NaN\n",
      "DeviceProtection: 0 개의 공백 또는 NaN\n",
      "TechSupport: 0 개의 공백 또는 NaN\n",
      "StreamingTV: 0 개의 공백 또는 NaN\n",
      "StreamingMovies: 0 개의 공백 또는 NaN\n",
      "Contract: 0 개의 공백 또는 NaN\n",
      "PaperlessBilling: 0 개의 공백 또는 NaN\n",
      "PaymentMethod: 0 개의 공백 또는 NaN\n",
      "TotalCharges: 11 개의 공백 또는 NaN\n",
      "Churn: 0 개의 공백 또는 NaN\n"
     ]
    }
   ],
   "source": [
    "for col in df.select_dtypes(include='object').columns:\n",
    "    has_blank_or_nan = df[col].isna().sum() + (df[col] == ' ').sum()\n",
    "    print(f\"{col}: {has_blank_or_nan} 개의 공백 또는 NaN\")\n",
    "    "
   ]
  },
  {
   "cell_type": "markdown",
   "metadata": {},
   "source": [
    "### TotalCharges의 결측치 채우기: 중앙값"
   ]
  },
  {
   "cell_type": "code",
   "execution_count": 3,
   "metadata": {},
   "outputs": [
    {
     "name": "stdout",
     "output_type": "stream",
     "text": [
      "float64\n",
      "0\n"
     ]
    }
   ],
   "source": [
    "# 'TotalCharges'를 숫자로 변환 (float64), 변환 불가능한 값은 NaN으로 처리\n",
    "df['TotalCharges'] = pd.to_numeric(df['TotalCharges'], errors='coerce')\n",
    "\n",
    "# 결측치 채우기 (중앙값 사용)\n",
    "median_value = df['TotalCharges'].median()\n",
    "df['TotalCharges'] = df['TotalCharges'].fillna(median_value)  # 결측치 채우기\n",
    "\n",
    "# 결과 확인\n",
    "print(df['TotalCharges'].dtype)         # 데이터 타입 확인\n",
    "print(df['TotalCharges'].isna().sum())  # 결측치 확인"
   ]
  },
  {
   "cell_type": "markdown",
   "metadata": {},
   "source": [
    "# 2. 이상치 처리하기"
   ]
  },
  {
   "cell_type": "code",
   "execution_count": 4,
   "metadata": {},
   "outputs": [],
   "source": [
    "def find_outliers_and_replace(df, whis=1.5):\n",
    "    \"\"\"\n",
    "    주어진 데이터프레임에서 숫자형 열들에 대해 IQR 방식을 통해 이상치를 찾아\n",
    "    이상치 값을 최소 또는 최대 허용 범위 값으로 대체하는 함수.\n",
    "    이진 변수는 이상치 처리에서 제외.\n",
    "    \n",
    "    Parameters:\n",
    "    - df: 데이터프레임\n",
    "    - whis: IQR의 배수로, 기본값은 1.5\n",
    "    \n",
    "    Returns:\n",
    "    - 이상치가 대체된 데이터프레임\n",
    "    \"\"\"\n",
    "    # 복사본 생성\n",
    "    df_copy = df.copy()\n",
    "    \n",
    "    # 숫자형 열만 선택\n",
    "    numeric_columns = df_copy.select_dtypes(include='number').columns\n",
    "    \n",
    "    for column_name in numeric_columns:\n",
    "        # 이진 변수인지 확인 (고유 값이 2개만 있는 경우)\n",
    "        unique_values = df_copy[column_name].nunique()\n",
    "        if unique_values == 2:\n",
    "            # 이진 변수인 경우 이상치 처리를 생략\n",
    "            continue\n",
    "\n",
    "        # 1사분위수(Q1)와 3사분위수(Q3) 계산\n",
    "        q1, q3 = df_copy[column_name].quantile([0.25, 0.75])\n",
    "        iqr = q3 - q1\n",
    "\n",
    "        # 하한과 상한 계산\n",
    "        lower_bound = q1 - iqr * whis\n",
    "        upper_bound = q3 + iqr * whis\n",
    "\n",
    "        # 이상치를 하한과 상한으로 대체\n",
    "        df_copy[column_name] = df_copy[column_name].apply(\n",
    "            lambda x: lower_bound if x < lower_bound else (upper_bound if x > upper_bound else x)\n",
    "        )\n",
    "    \n",
    "    return df_copy"
   ]
  },
  {
   "cell_type": "markdown",
   "metadata": {},
   "source": [
    "# 3. 인코딩(One Hot encoding) 처리"
   ]
  },
  {
   "cell_type": "code",
   "execution_count": 9,
   "metadata": {},
   "outputs": [],
   "source": [
    "from sklearn.preprocessing import LabelEncoder, OrdinalEncoder\n",
    "\n",
    "# 1. Label Encoding (이진 변수)\n",
    "label_cols = ['gender', 'Partner', 'Dependents', 'PhoneService', 'PaperlessBilling', 'Churn']\n",
    "label_encoder = LabelEncoder()\n",
    "\n",
    "for col in label_cols:\n",
    "    df[col] = label_encoder.fit_transform(df[col])\n",
    "\n",
    "# 2. One-Hot Encoding (다중 범주 변수)\n",
    "df = pd.get_dummies(df, columns=['InternetService', 'Contract', 'PaymentMethod', 'MultipleLines',\n",
    "                                 'OnlineSecurity', 'OnlineBackup', 'DeviceProtection', 'TechSupport',\n",
    "                                 'StreamingTV', 'StreamingMovies'])"
   ]
  },
  {
   "cell_type": "code",
   "execution_count": 10,
   "metadata": {},
   "outputs": [
    {
     "name": "stdout",
     "output_type": "stream",
     "text": [
      "Index: 0, Column Name: customerID\n",
      "Index: 1, Column Name: gender\n",
      "Index: 2, Column Name: SeniorCitizen\n",
      "Index: 3, Column Name: Partner\n",
      "Index: 4, Column Name: Dependents\n",
      "Index: 5, Column Name: tenure\n",
      "Index: 6, Column Name: PhoneService\n",
      "Index: 7, Column Name: PaperlessBilling\n",
      "Index: 8, Column Name: MonthlyCharges\n",
      "Index: 9, Column Name: TotalCharges\n",
      "Index: 10, Column Name: Churn\n",
      "Index: 11, Column Name: InternetService_DSL\n",
      "Index: 12, Column Name: InternetService_Fiber optic\n",
      "Index: 13, Column Name: InternetService_No\n",
      "Index: 14, Column Name: Contract_Month-to-month\n",
      "Index: 15, Column Name: Contract_One year\n",
      "Index: 16, Column Name: Contract_Two year\n",
      "Index: 17, Column Name: PaymentMethod_Bank transfer (automatic)\n",
      "Index: 18, Column Name: PaymentMethod_Credit card (automatic)\n",
      "Index: 19, Column Name: PaymentMethod_Electronic check\n",
      "Index: 20, Column Name: PaymentMethod_Mailed check\n",
      "Index: 21, Column Name: MultipleLines_No\n",
      "Index: 22, Column Name: MultipleLines_No phone service\n",
      "Index: 23, Column Name: MultipleLines_Yes\n",
      "Index: 24, Column Name: OnlineSecurity_No\n",
      "Index: 25, Column Name: OnlineSecurity_No internet service\n",
      "Index: 26, Column Name: OnlineSecurity_Yes\n",
      "Index: 27, Column Name: OnlineBackup_No\n",
      "Index: 28, Column Name: OnlineBackup_No internet service\n",
      "Index: 29, Column Name: OnlineBackup_Yes\n",
      "Index: 30, Column Name: DeviceProtection_No\n",
      "Index: 31, Column Name: DeviceProtection_No internet service\n",
      "Index: 32, Column Name: DeviceProtection_Yes\n",
      "Index: 33, Column Name: TechSupport_No\n",
      "Index: 34, Column Name: TechSupport_No internet service\n",
      "Index: 35, Column Name: TechSupport_Yes\n",
      "Index: 36, Column Name: StreamingTV_No\n",
      "Index: 37, Column Name: StreamingTV_No internet service\n",
      "Index: 38, Column Name: StreamingTV_Yes\n",
      "Index: 39, Column Name: StreamingMovies_No\n",
      "Index: 40, Column Name: StreamingMovies_No internet service\n",
      "Index: 41, Column Name: StreamingMovies_Yes\n"
     ]
    }
   ],
   "source": [
    "# Column 확인하기\n",
    "for idx, col in enumerate(df.columns):\n",
    "    print(f\"Index: {idx}, Column Name: {col}\")"
   ]
  },
  {
   "cell_type": "code",
   "execution_count": null,
   "metadata": {},
   "outputs": [
    {
     "name": "stdout",
     "output_type": "stream",
     "text": [
      "전처리된 데이터가 'df_encoded.csv' 파일로 저장되었습니다.\n"
     ]
    }
   ],
   "source": [
    "import os\n",
    "\n",
    "# data 폴더 생성 (존재하지 않으면 생성)\n",
    "os.makedirs('data', exist_ok=True)\n",
    "\n",
    "# CSV 파일 저장\n",
    "df.to_csv('data/df_encoded.csv', index=False)\n",
    "print(\"전처리된 데이터가 'data/df_encoded.csv' 파일로 저장되었습니다.\")"
   ]
  }
 ],
 "metadata": {
  "kernelspec": {
   "display_name": "myenv",
   "language": "python",
   "name": "python3"
  },
  "language_info": {
   "codemirror_mode": {
    "name": "ipython",
    "version": 3
   },
   "file_extension": ".py",
   "mimetype": "text/x-python",
   "name": "python",
   "nbconvert_exporter": "python",
   "pygments_lexer": "ipython3",
   "version": "3.12.5"
  }
 },
 "nbformat": 4,
 "nbformat_minor": 2
}
